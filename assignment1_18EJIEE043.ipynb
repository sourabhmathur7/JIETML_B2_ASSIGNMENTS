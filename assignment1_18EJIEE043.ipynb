{
 "cells": [
  {
   "cell_type": "code",
   "execution_count": 2,
   "metadata": {},
   "outputs": [
    {
     "name": "stdout",
     "output_type": "stream",
     "text": [
      " enter the total number of elements in list :2\n",
      "enter the element 1:1\n",
      "enter the element 2:2\n",
      "so , non duplicate elements are: \n",
      "[1, 2]\n"
     ]
    }
   ],
   "source": [
    "#question 1 \n",
    "a =[] \n",
    "num = int(input(\" enter the total number of elements in list :\"))\n",
    "for x in range (0,num):\n",
    "                a.append(int(input(\"enter the element \" + str(x+1) +\":\"))) \n",
    "b=set()\n",
    "non_duplicate = []\n",
    "for x in a: \n",
    "            if x not in b:\n",
    "             non_duplicate.append(x)                \n",
    "             b.add(x)\n",
    "print(\"so , non duplicate elements are: \") \n",
    "print(non_duplicate) "
   ]
  },
  {
   "cell_type": "code",
   "execution_count": 3,
   "metadata": {},
   "outputs": [
    {
     "name": "stdout",
     "output_type": "stream",
     "text": [
      " enter the total number of elements in list :2\n",
      "enter the element 1 : 1\n",
      "enter the element 2 : 2\n",
      "<class 'tuple'>\n",
      "length of tuples :  2\n",
      "sum of all the elements :  3\n",
      "largest element :  2\n",
      "smallest element :  1\n"
     ]
    }
   ],
   "source": [
    "#question 2\n",
    "a =[] \n",
    "bum = int(input(\" enter the total number of elements in list :\"))\n",
    "for x in range (0,bum):\n",
    "                a.append(int(input(\"enter the element \" + str(x+1) +\" : \"))) \n",
    "a = tuple(a)\n",
    "print(type(a))\n",
    "print(\"length of tuples : \" , len(a))\n",
    "print(\"sum of all the elements : \" , sum(a))\n",
    "print(\"largest element : \" ,max(a))\n",
    "print(\"smallest element : \", min(a))"
   ]
  },
  {
   "cell_type": "code",
   "execution_count": 7,
   "metadata": {},
   "outputs": [
    {
     "name": "stdout",
     "output_type": "stream",
     "text": [
      " Enter a Number: 15\n",
      " Enter the Bit to Change: 2\n",
      "11\n"
     ]
    }
   ],
   "source": [
    "#question 3\n",
    "a=int(input(\" Enter a Number: \"))\n",
    "i=int(input(\" Enter the Bit to Change: \"))\n",
    "\n",
    "num=1<<i\n",
    "result=a^num\n",
    "\n",
    "print( result )"
   ]
  },
  {
   "cell_type": "code",
   "execution_count": 6,
   "metadata": {},
   "outputs": [
    {
     "name": "stdout",
     "output_type": "stream",
     "text": [
      "enter number :2\n",
      "[0]\n"
     ]
    }
   ],
   "source": [
    "#question 4\n",
    "n = int(input(\"enter number :\"))\n",
    "print([n%2])"
   ]
  },
  {
   "cell_type": "code",
   "execution_count": 8,
   "metadata": {},
   "outputs": [
    {
     "name": "stdout",
     "output_type": "stream",
     "text": [
      "enter the total number of elements : 2\n",
      "enter the element 1:1\n",
      "enter the element 2:2\n",
      "enter the total numbberr of elements : 2\n",
      "enter the element 1:5\n",
      "enter the element 2:6\n",
      "mylist is  [1, 2, 5, 6]\n"
     ]
    }
   ],
   "source": [
    "#question 5\n",
    "a = []\n",
    "c = []\n",
    "n1 = int(input(\"enter the total number of elements : \"))\n",
    "for i in range (0,n1 ):\n",
    "    a.append(int(input(\"enter the element \" + str(i+1) +\":\"))) \n",
    "n2 = int(input(\"enter the total numbberr of elements : \"))\n",
    "for i in range(0,n2 ):\n",
    "    c.append(int(input(\"enter the element \" + str(i+1) +\":\")))\n",
    "num = a+c\n",
    "num.sort()\n",
    "print(\"mylist is \" , num)"
   ]
  },
  {
   "cell_type": "code",
   "execution_count": 1,
   "metadata": {},
   "outputs": [
    {
     "name": "stdout",
     "output_type": "stream",
     "text": [
      "enter total number of students : 4\n",
      "enter the name and the marks of the students separated by commas(,) : berlin,70\n",
      "enter the name and the marks of the students separated by commas(,) : oslo,0\n",
      "enter the name and the marks of the students separated by commas(,) : moscow,50\n",
      "enter the name and the marks of the students separated by commas(,) : nairobi,100\n",
      " the entered dictionary is :  {'berlin': '70', 'oslo': '0', 'moscow': '50', 'nairobi': '100'}\n",
      "dictionary according to ascending order in marks :  [('oslo', '0'), ('moscow', '50'), ('berlin', '70'), ('nairobi', '100')]\n"
     ]
    }
   ],
   "source": [
    "#question 6\n",
    "n = int(input(\"enter total number of students : \"))\n",
    "my_dict = dict()\n",
    "for x in range (0,n):\n",
    "    user_input = input(\"enter the name and the marks of the students separated by commas(,) : \")\n",
    "    key,value = user_input.split(\",\")\n",
    "    my_dict[key] = value\n",
    "print(\" the entered dictionary is : \", my_dict) \n",
    "\n",
    "if(value.isdigit()):\n",
    "    sorted_d = sorted(my_dict.items() , key=lambda x: int(x[1]))\n",
    "    print(\"dictionary according to ascending order in marks : \", sorted_d)\n",
    "else:\n",
    "    sorted_d = sorted(my_dict.items() , key=operator.itemgetter(1))\n",
    "    print(\"dictionary according to ascending order in marks : \", sorted_d)"
   ]
  },
  {
   "cell_type": "code",
   "execution_count": null,
   "metadata": {},
   "outputs": [],
   "source": []
  }
 ],
 "metadata": {
  "kernelspec": {
   "display_name": "Python 3",
   "language": "python",
   "name": "python3"
  },
  "language_info": {
   "codemirror_mode": {
    "name": "ipython",
    "version": 3
   },
   "file_extension": ".py",
   "mimetype": "text/x-python",
   "name": "python",
   "nbconvert_exporter": "python",
   "pygments_lexer": "ipython3",
   "version": "3.7.6"
  }
 },
 "nbformat": 4,
 "nbformat_minor": 4
}
